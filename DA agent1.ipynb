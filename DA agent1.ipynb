{
 "cells": [
  {
   "cell_type": "code",
   "execution_count": 1,
   "metadata": {
    "vscode": {
     "languageId": "shellscript"
    }
   },
   "outputs": [],
   "source": [
    "# Create a virtual environment named 'env'\n",
    "!python -m venv env\n",
    "\n",
    "# Activate the virtual environment\n",
    "# For Windows\n",
    "!.\\env\\Scripts\\activate"
   ]
  },
  {
   "cell_type": "code",
   "execution_count": 2,
   "metadata": {
    "vscode": {
     "languageId": "shellscript"
    }
   },
   "outputs": [
    {
     "name": "stdout",
     "output_type": "stream",
     "text": [
      "Looking in indexes: https://pypi.org/simple, https://pypi.ngc.nvidia.com\n",
      "Requirement already satisfied: torch in c:\\users\\suyog\\onedrive\\desktop\\projects\\da_ai_agent\\venv\\lib\\site-packages (from -r requirements.txt (line 1)) (2.5.1+cu121)\n",
      "Requirement already satisfied: torchvision in c:\\users\\suyog\\onedrive\\desktop\\projects\\da_ai_agent\\venv\\lib\\site-packages (from -r requirements.txt (line 2)) (0.20.1+cu121)\n",
      "Requirement already satisfied: torchaudio in c:\\users\\suyog\\onedrive\\desktop\\projects\\da_ai_agent\\venv\\lib\\site-packages (from -r requirements.txt (line 3)) (2.5.1+cu121)\n",
      "Requirement already satisfied: transformers in c:\\users\\suyog\\onedrive\\desktop\\projects\\da_ai_agent\\venv\\lib\\site-packages (from -r requirements.txt (line 4)) (4.48.3)\n",
      "Requirement already satisfied: pandas in c:\\users\\suyog\\onedrive\\desktop\\projects\\da_ai_agent\\venv\\lib\\site-packages (from -r requirements.txt (line 5)) (2.2.3)\n",
      "Requirement already satisfied: matplotlib in c:\\users\\suyog\\onedrive\\desktop\\projects\\da_ai_agent\\venv\\lib\\site-packages (from -r requirements.txt (line 6)) (3.10.0)\n",
      "Requirement already satisfied: seaborn in c:\\users\\suyog\\onedrive\\desktop\\projects\\da_ai_agent\\venv\\lib\\site-packages (from -r requirements.txt (line 7)) (0.13.2)\n",
      "Requirement already satisfied: fastapi in c:\\users\\suyog\\onedrive\\desktop\\projects\\da_ai_agent\\venv\\lib\\site-packages (from -r requirements.txt (line 8)) (0.115.8)\n",
      "Requirement already satisfied: uvicorn in c:\\users\\suyog\\onedrive\\desktop\\projects\\da_ai_agent\\venv\\lib\\site-packages (from -r requirements.txt (line 9)) (0.34.0)\n",
      "Requirement already satisfied: tensorflow[and-cuda] in c:\\users\\suyog\\onedrive\\desktop\\projects\\da_ai_agent\\venv\\lib\\site-packages (from -r requirements.txt (line 10)) (2.12.0)\n",
      "Requirement already satisfied: sqlalchemy in c:\\users\\suyog\\onedrive\\desktop\\projects\\da_ai_agent\\venv\\lib\\site-packages (from -r requirements.txt (line 11)) (2.0.38)\n",
      "Requirement already satisfied: phidata in c:\\users\\suyog\\onedrive\\desktop\\projects\\da_ai_agent\\venv\\lib\\site-packages (from -r requirements.txt (line 12)) (2.7.10)\n",
      "Requirement already satisfied: groq in c:\\users\\suyog\\onedrive\\desktop\\projects\\da_ai_agent\\venv\\lib\\site-packages (from -r requirements.txt (line 13)) (0.18.0)\n",
      "Requirement already satisfied: kaggle in c:\\users\\suyog\\onedrive\\desktop\\projects\\da_ai_agent\\venv\\lib\\site-packages (from -r requirements.txt (line 14)) (1.6.17)\n",
      "Requirement already satisfied: pandasql in c:\\users\\suyog\\onedrive\\desktop\\projects\\da_ai_agent\\venv\\lib\\site-packages (from -r requirements.txt (line 16)) (0.7.3)\n"
     ]
    },
    {
     "name": "stderr",
     "output_type": "stream",
     "text": [
      "ERROR: Could not find a version that satisfies the requirement re (from versions: none)\n",
      "ERROR: No matching distribution found for re\n",
      "WARNING: You are using pip version 21.2.4; however, version 25.0.1 is available.\n",
      "You should consider upgrading via the 'C:\\Users\\suyog\\OneDrive\\Desktop\\Projects\\DA_AI_Agent\\venv\\Scripts\\python.exe -m pip install --upgrade pip' command.\n"
     ]
    }
   ],
   "source": [
    "# Install packages from requirements.txt\n",
    "!pip install -r requirements.txt"
   ]
  },
  {
   "cell_type": "code",
   "execution_count": null,
   "metadata": {
    "vscode": {
     "languageId": "shellscript"
    }
   },
   "outputs": [
    {
     "name": "stdout",
     "output_type": "stream",
     "text": [
      "Package                      Version\n",
      "---------------------------- ------------\n",
      "absl-py                      2.1.0\n",
      "annotated-types              0.7.0\n",
      "anyio                        4.8.0\n",
      "asttokens                    3.0.0\n",
      "astunparse                   1.6.3\n",
      "bleach                       6.2.0\n",
      "cachetools                   5.5.1\n",
      "certifi                      2025.1.31\n",
      "charset-normalizer           3.4.1\n",
      "click                        8.1.8\n",
      "colorama                     0.4.6\n",
      "comm                         0.2.2\n",
      "contourpy                    1.3.1\n",
      "cycler                       0.12.1\n",
      "debugpy                      1.8.12\n",
      "decorator                    5.1.1\n",
      "distro                       1.9.0\n",
      "docstring_parser             0.16\n",
      "exceptiongroup               1.2.2\n",
      "executing                    2.2.0\n",
      "fastapi                      0.115.8\n",
      "filelock                     3.17.0\n",
      "flatbuffers                  25.2.10\n",
      "fonttools                    4.56.0\n",
      "fsspec                       2025.2.0\n",
      "gast                         0.4.0\n",
      "gitdb                        4.0.12\n",
      "GitPython                    3.1.44\n",
      "google-auth                  2.38.0\n",
      "google-auth-oauthlib         1.0.0\n",
      "google-pasta                 0.2.0\n",
      "greenlet                     3.1.1\n",
      "groq                         0.18.0\n",
      "grpcio                       1.70.0\n",
      "h11                          0.14.0\n",
      "h5py                         3.12.1\n",
      "httpcore                     1.0.7\n",
      "httpx                        0.28.1\n",
      "huggingface-hub              0.28.1\n",
      "idna                         3.10\n",
      "ipykernel                    6.29.5\n",
      "ipython                      8.32.0\n",
      "jax                          0.4.30\n",
      "jaxlib                       0.4.30\n",
      "jedi                         0.19.2\n",
      "Jinja2                       3.1.5\n",
      "jupyter_client               8.6.3\n",
      "jupyter_core                 5.7.2\n",
      "kaggle                       1.6.17\n",
      "keras                        2.12.0\n",
      "kiwisolver                   1.4.8\n",
      "libclang                     18.1.1\n",
      "Markdown                     3.7\n",
      "markdown-it-py               3.0.0\n",
      "MarkupSafe                   3.0.2\n",
      "matplotlib                   3.10.0\n",
      "matplotlib-inline            0.1.7\n",
      "mdurl                        0.1.2\n",
      "ml_dtypes                    0.5.1\n",
      "mpmath                       1.3.0\n",
      "nest-asyncio                 1.6.0\n",
      "networkx                     3.4.2\n",
      "numpy                        1.23.5\n",
      "oauthlib                     3.2.2\n",
      "opt_einsum                   3.4.0\n",
      "packaging                    24.2\n",
      "pandas                       2.2.3\n",
      "pandasql                     0.7.3\n",
      "parso                        0.8.4\n",
      "phidata                      2.7.10\n",
      "pillow                       11.1.0\n",
      "pip                          21.2.4\n",
      "platformdirs                 4.3.6\n",
      "prompt_toolkit               3.0.50\n",
      "protobuf                     4.25.6\n",
      "psutil                       7.0.0\n",
      "pure_eval                    0.2.3\n",
      "pyasn1                       0.6.1\n",
      "pyasn1_modules               0.4.1\n",
      "pydantic                     2.10.6\n",
      "pydantic_core                2.27.2\n",
      "pydantic-settings            2.7.1\n",
      "Pygments                     2.19.1\n",
      "pyparsing                    3.2.1\n",
      "python-dateutil              2.9.0.post0\n",
      "python-dotenv                1.0.1\n",
      "python-slugify               8.0.4\n",
      "pytz                         2025.1\n",
      "pywin32                      308\n",
      "PyYAML                       6.0.2\n",
      "pyzmq                        26.2.1\n",
      "regex                        2024.11.6\n",
      "requests                     2.32.3\n",
      "requests-oauthlib            2.0.0\n",
      "rich                         13.9.4\n",
      "rsa                          4.9\n",
      "safetensors                  0.5.2\n",
      "scipy                        1.15.1\n",
      "seaborn                      0.13.2\n",
      "setuptools                   58.1.0\n",
      "shellingham                  1.5.4\n",
      "six                          1.17.0\n",
      "smmap                        5.0.2\n",
      "sniffio                      1.3.1\n",
      "SQLAlchemy                   2.0.38\n",
      "stack-data                   0.6.3\n",
      "starlette                    0.45.3\n",
      "sympy                        1.13.1\n",
      "tensorboard                  2.12.3\n",
      "tensorboard-data-server      0.7.2\n",
      "tensorflow                   2.12.0\n",
      "tensorflow-estimator         2.12.0\n",
      "tensorflow-intel             2.12.0\n",
      "tensorflow-io-gcs-filesystem 0.31.0\n",
      "termcolor                    2.5.0\n",
      "text-unidecode               1.3\n",
      "tokenizers                   0.21.0\n",
      "tomli                        2.2.1\n",
      "torch                        2.5.1+cu121\n",
      "torchaudio                   2.5.1+cu121\n",
      "torchvision                  0.20.1+cu121\n",
      "tornado                      6.4.2\n",
      "tqdm                         4.67.1\n",
      "traitlets                    5.14.3\n",
      "transformers                 4.48.3\n",
      "typer                        0.15.1\n",
      "typing_extensions            4.12.2\n",
      "tzdata                       2025.1\n",
      "urllib3                      2.3.0\n",
      "uvicorn                      0.34.0\n",
      "wcwidth                      0.2.13\n",
      "webencodings                 0.5.1\n",
      "Werkzeug                     3.1.3\n",
      "wheel                        0.45.1\n",
      "wrapt                        1.14.1\n"
     ]
    },
    {
     "name": "stderr",
     "output_type": "stream",
     "text": [
      "WARNING: You are using pip version 21.2.4; however, version 25.0.1 is available.\n",
      "You should consider upgrading via the 'C:\\Users\\suyog\\OneDrive\\Desktop\\Projects\\DA_AI_Agent\\venv\\Scripts\\python.exe -m pip install --upgrade pip' command.\n"
     ]
    }
   ],
   "source": [
    "# List installed packages to verify installation\n",
    "!pip list"
   ]
  },
  {
   "cell_type": "code",
   "execution_count": 16,
   "metadata": {
    "vscode": {
     "languageId": "shellscript"
    }
   },
   "outputs": [
    {
     "name": "stdout",
     "output_type": "stream",
     "text": [
      "PyTorch Version: 2.5.1+cu121\n",
      "CUDA Available: True\n",
      "CUDA Version: 12.1\n",
      "Number of GPUs: 1\n",
      "GPU Name: NVIDIA GeForce RTX 4060 Laptop GPU\n"
     ]
    }
   ],
   "source": [
    "import torch\n",
    "from dotenv import load_dotenv\n",
    "import os\n",
    "import pandas as pd\n",
    "import re\n",
    "from kaggle.api.kaggle_api_extended import KaggleApi\n",
    "from phi.agent import Agent\n",
    "from phi.model.groq import Groq\n",
    "import pandasql as psql \n",
    "\n",
    "# Load environment variables\n",
    "load_dotenv()\n",
    "\n",
    "print(\"PyTorch Version:\", torch.__version__)\n",
    "print(\"CUDA Available:\", torch.cuda.is_available())\n",
    "print(\"CUDA Version:\", torch.version.cuda)\n",
    "print(\"Number of GPUs:\", torch.cuda.device_count())\n",
    "\n",
    "if torch.cuda.is_available():\n",
    "    print(\"GPU Name:\", torch.cuda.get_device_name(0))\n"
   ]
  },
  {
   "cell_type": "code",
   "execution_count": 5,
   "metadata": {
    "vscode": {
     "languageId": "shellscript"
    }
   },
   "outputs": [
    {
     "name": "stdout",
     "output_type": "stream",
     "text": [
      "cuda:0\n"
     ]
    }
   ],
   "source": [
    "# verify GPU perfrmance\n",
    "import torch\n",
    "x = torch.rand(10000, 10000).cuda()\n",
    "print(x.device)"
   ]
  },
  {
   "cell_type": "markdown",
   "metadata": {},
   "source": [
    "-------------------------- AI Agent for SQL query builder --------------------------"
   ]
  },
  {
   "cell_type": "markdown",
   "metadata": {},
   "source": [
    "------------------------------------ SET UP KAGGLE API  ---------------------------"
   ]
  },
  {
   "cell_type": "code",
   "execution_count": 6,
   "metadata": {
    "vscode": {
     "languageId": "shellscript"
    }
   },
   "outputs": [
    {
     "name": "stdout",
     "output_type": "stream",
     "text": [
      "Kaggle Username: suyog2\n",
      "Kaggle API authenticated successfully!\n",
      "KAGGLE_USERNAME: suyog2\n",
      "KAGGLE_KEY: 257621bd068e929792413446b2aac650\n"
     ]
    }
   ],
   "source": [
    "from dotenv import load_dotenv\n",
    "import os\n",
    "\n",
    "load_dotenv()\n",
    "\n",
    "username = os.getenv(\"KAGGLE_USERNAME\")\n",
    "key = os.getenv(\"KAGGLE_KEY\")\n",
    "from kaggle.api.kaggle_api_extended import KaggleApi\n",
    "\n",
    "print(\"Kaggle Username:\", username)\n",
    "\n",
    "# Initialize Kaggle API\n",
    "from kaggle.api.kaggle_api_extended import KaggleApi\n",
    "\n",
    "api = KaggleApi()\n",
    "api.authenticate()\n",
    "\n",
    "print(\"Kaggle API authenticated successfully!\")\n",
    "\n",
    "\n",
    "print(\"KAGGLE_USERNAME:\", os.getenv(\"KAGGLE_USERNAME\"))\n",
    "print(\"KAGGLE_KEY:\", os.getenv(\"KAGGLE_KEY\"))\n"
   ]
  },
  {
   "cell_type": "code",
   "execution_count": 8,
   "metadata": {
    "vscode": {
     "languageId": "shellscript"
    }
   },
   "outputs": [
    {
     "name": "stdout",
     "output_type": "stream",
     "text": [
      "syedanwarafridi/vehicle-sales-data\n",
      "kyanyoga/sample-sales-data\n",
      "ddosad/auto-sales-data\n",
      "milanzdravkovic/pharma-sales-data\n",
      "yapwh1208/supermarket-sales-data\n",
      "karkavelrajaj/amazon-sales-dataset\n",
      "thedevastator/unlock-profits-with-e-commerce-sales-data\n",
      "rohitsahoo/sales-forecasting\n",
      "ksabishek/product-sales-data\n",
      "suraj520/car-sales-data\n",
      "berkayalan/retail-sales-data\n",
      "samruddhi4040/online-sales-data\n",
      "shreyanshverma27/online-sales-dataset-popular-marketplace-data\n",
      "ronnykym/online-store-sales-data\n",
      "willianoliveiragibin/market-sales-data\n",
      "talhabu/us-regional-sales-data\n",
      "harrimansaragih/dummy-advertising-and-sales-data\n",
      "mehmettahiraslan/customer-shopping-dataset\n",
      "mohammadtalib786/retail-sales-dataset\n",
      "lokeshparab/amazon-products-dataset\n"
     ]
    }
   ],
   "source": [
    "datasets = api.dataset_list(search=\"sales data\")\n",
    "for dataset in datasets:\n",
    "    print(dataset.ref)\n"
   ]
  },
  {
   "cell_type": "markdown",
   "metadata": {},
   "source": [
    "--------------------------------- Download specific dataset from Kaggle  -------------- "
   ]
  },
  {
   "cell_type": "code",
   "execution_count": null,
   "metadata": {
    "vscode": {
     "languageId": "shellscript"
    }
   },
   "outputs": [
    {
     "name": "stdout",
     "output_type": "stream",
     "text": [
      "Dataset URL: https://www.kaggle.com/datasets/thedevastator/unlock-profits-with-e-commerce-sales-data\n"
     ]
    }
   ],
   "source": [
    "\n",
    "# Get Kaggle credentials from environment variables\n",
    "username = os.getenv(\"KAGGLE_USERNAME\")\n",
    "key = os.getenv(\"KAGGLE_KEY\")\n",
    "\n",
    "# Initialize Kaggle API\n",
    "api = KaggleApi()\n",
    "api.authenticate()\n",
    "\n",
    "# Define dataset name\n",
    "dataset_name = \"thedevastator/unlock-profits-with-e-commerce-sales-data\"  # Adjust the dataset name as needed\n",
    "\n",
    "# Download dataset\n",
    "api.dataset_download_files(dataset_name, path=\"./data\", unzip=True)\n"
   ]
  },
  {
   "cell_type": "markdown",
   "metadata": {},
   "source": [
    "---------------------------------------- Import files into pandas dataframes ----------------------"
   ]
  },
  {
   "cell_type": "code",
   "execution_count": 7,
   "metadata": {
    "vscode": {
     "languageId": "shellscript"
    }
   },
   "outputs": [
    {
     "name": "stderr",
     "output_type": "stream",
     "text": [
      "C:\\Users\\suyog\\AppData\\Local\\Temp\\ipykernel_1576\\3750667273.py:13: DtypeWarning: Columns (23) have mixed types. Specify dtype option on import or set low_memory=False.\n",
      "  dataframes[df_name] = pd.read_csv(file_path)\n"
     ]
    },
    {
     "name": "stdout",
     "output_type": "stream",
     "text": [
      "Loaded Amazon Sale Report.csv into DataFrame: Amazon Sale Report\n",
      "Loaded Cloud Warehouse Compersion Chart.csv into DataFrame: Cloud Warehouse Compersion Chart\n",
      "Loaded Expense IIGF.csv into DataFrame: Expense IIGF\n",
      "Loaded International sale Report.csv into DataFrame: International sale Report\n",
      "Loaded May-2022.csv into DataFrame: May-2022\n",
      "Loaded P  L March 2021.csv into DataFrame: P  L March 2021\n",
      "Loaded Sale Report.csv into DataFrame: Sale Report\n",
      "\n",
      "Preview of Amazon Sale Report DataFrame:\n",
      "   index             Order ID      Date                        Status  \\\n",
      "0      0  405-8078784-5731545  04-30-22                     Cancelled   \n",
      "1      1  171-9198151-1101146  04-30-22  Shipped - Delivered to Buyer   \n",
      "2      2  404-0687676-7273146  04-30-22                       Shipped   \n",
      "3      3  403-9615377-8133951  04-30-22                     Cancelled   \n",
      "4      4  407-1069790-7240320  04-30-22                       Shipped   \n",
      "\n",
      "  Fulfilment Sales Channel  ship-service-level    Style              SKU  \\\n",
      "0   Merchant      Amazon.in           Standard   SET389   SET389-KR-NP-S   \n",
      "1   Merchant      Amazon.in           Standard  JNE3781  JNE3781-KR-XXXL   \n",
      "2     Amazon      Amazon.in          Expedited  JNE3371    JNE3371-KR-XL   \n",
      "3   Merchant      Amazon.in           Standard    J0341       J0341-DR-L   \n",
      "4     Amazon      Amazon.in          Expedited  JNE3671  JNE3671-TU-XXXL   \n",
      "\n",
      "        Category  ... currency  Amount    ship-city   ship-state  \\\n",
      "0            Set  ...      INR  647.62       MUMBAI  MAHARASHTRA   \n",
      "1          kurta  ...      INR  406.00    BENGALURU    KARNATAKA   \n",
      "2          kurta  ...      INR  329.00  NAVI MUMBAI  MAHARASHTRA   \n",
      "3  Western Dress  ...      INR  753.33   PUDUCHERRY   PUDUCHERRY   \n",
      "4            Top  ...      INR  574.00      CHENNAI   TAMIL NADU   \n",
      "\n",
      "  ship-postal-code  ship-country  \\\n",
      "0         400081.0            IN   \n",
      "1         560085.0            IN   \n",
      "2         410210.0            IN   \n",
      "3         605008.0            IN   \n",
      "4         600073.0            IN   \n",
      "\n",
      "                                       promotion-ids    B2B  fulfilled-by  \\\n",
      "0                                                NaN  False     Easy Ship   \n",
      "1  Amazon PLCC Free-Financing Universal Merchant ...  False     Easy Ship   \n",
      "2       IN Core Free Shipping 2015/04/08 23-48-5-108   True           NaN   \n",
      "3                                                NaN  False     Easy Ship   \n",
      "4                                                NaN  False           NaN   \n",
      "\n",
      "  Unnamed: 22  \n",
      "0         NaN  \n",
      "1         NaN  \n",
      "2         NaN  \n",
      "3         NaN  \n",
      "4         NaN  \n",
      "\n",
      "[5 rows x 24 columns]\n",
      "\n",
      "Preview of Cloud Warehouse Compersion Chart DataFrame:\n",
      "   index                        Shiprocket        Unnamed: 1  \\\n",
      "0      0                             Heads  Price (Per Unit)   \n",
      "1      1     Inbound (Fresh Stock and RTO)             ₹4.00   \n",
      "2      2                          Outbound             ₹7.00   \n",
      "3      3                   Storage Fee/Cft            ₹25.00   \n",
      "4      4  Customer Return with Detailed QC             ₹6.00   \n",
      "\n",
      "             INCREFF  \n",
      "0   Price (Per Unit)  \n",
      "1                  4  \n",
      "2                 11  \n",
      "3  Rs 0.15/- Per Day  \n",
      "4               15.5  \n",
      "\n",
      "Preview of Expense IIGF DataFrame:\n",
      "   index Recived Amount Unnamed: 1  \\\n",
      "0      0     Particular     Amount   \n",
      "1      1       06-19-22       1000   \n",
      "2      2       06-20-22       1500   \n",
      "3      3       06-22-22        500   \n",
      "4      4       06-23-22       2000   \n",
      "\n",
      "                                             Expance Unnamed: 3  \n",
      "0                                         Particular     Amount  \n",
      "1                                          Large Bag        380  \n",
      "2  Stationary(Soft Pin, Paper pin for Dupatta, Fe...        170  \n",
      "3                                                OLA        839  \n",
      "4                                          Auto Rent        520  \n",
      "\n",
      "Preview of International sale Report DataFrame:\n",
      "   index      DATE  Months            CUSTOMER    Style             SKU Size  \\\n",
      "0      0  06-05-21  Jun-21  REVATHY LOGANATHAN  MEN5004    MEN5004-KR-L    L   \n",
      "1      1  06-05-21  Jun-21  REVATHY LOGANATHAN  MEN5004   MEN5004-KR-XL   XL   \n",
      "2      2  06-05-21  Jun-21  REVATHY LOGANATHAN  MEN5004  MEN5004-KR-XXL  XXL   \n",
      "3      3  06-05-21  Jun-21  REVATHY LOGANATHAN  MEN5009    MEN5009-KR-L    L   \n",
      "4      4  06-05-21  Jun-21  REVATHY LOGANATHAN  MEN5011    MEN5011-KR-L    L   \n",
      "\n",
      "    PCS    RATE GROSS AMT  \n",
      "0  1.00  616.56    617.00  \n",
      "1  1.00  616.56    617.00  \n",
      "2  1.00  616.56    617.00  \n",
      "3  1.00  616.56    617.00  \n",
      "4  1.00  616.56    617.00  \n",
      "\n",
      "Preview of May-2022 DataFrame:\n",
      "   index             Sku    Style Id  Catalog Category Weight   TP MRP Old  \\\n",
      "0      0    Os206_3141_S  Os206_3141  Moments    Kurta    0.3  538    2178   \n",
      "1      1    Os206_3141_M  Os206_3141  Moments    Kurta    0.3  538    2178   \n",
      "2      2    Os206_3141_L  Os206_3141  Moments    Kurta    0.3  538    2178   \n",
      "3      3   Os206_3141_XL  Os206_3141  Moments    Kurta    0.3  538    2178   \n",
      "4      4  Os206_3141_2XL  Os206_3141  Moments    Kurta    0.3  538    2178   \n",
      "\n",
      "  Final MRP Old Ajio MRP Amazon MRP Amazon FBA MRP Flipkart MRP Limeroad MRP  \\\n",
      "0          2295     2295       2295           2295         2295         2295   \n",
      "1          2295     2295       2295           2295         2295         2295   \n",
      "2          2295     2295       2295           2295         2295         2295   \n",
      "3          2295     2295       2295           2295         2295         2295   \n",
      "4          2295     2295       2295           2295         2295         2295   \n",
      "\n",
      "  Myntra MRP Paytm MRP Snapdeal MRP  \n",
      "0       2295      2295         2295  \n",
      "1       2295      2295         2295  \n",
      "2       2295      2295         2295  \n",
      "3       2295      2295         2295  \n",
      "4       2295      2295         2295  \n",
      "\n",
      "Preview of P  L March 2021 DataFrame:\n",
      "   index             Sku    Style Id  Catalog Category Weight TP 1    TP 2  \\\n",
      "0      0    Os206_3141_S  Os206_3141  Moments    Kurta    0.3  538  435.78   \n",
      "1      1    Os206_3141_M  Os206_3141  Moments    Kurta    0.3  538  435.78   \n",
      "2      2    Os206_3141_L  Os206_3141  Moments    Kurta    0.3  538  435.78   \n",
      "3      3   Os206_3141_XL  Os206_3141  Moments    Kurta    0.3  538  435.78   \n",
      "4      4  Os206_3141_2XL  Os206_3141  Moments    Kurta    0.3  538  435.78   \n",
      "\n",
      "  MRP Old Final MRP Old Ajio MRP Amazon MRP Amazon FBA MRP Flipkart MRP  \\\n",
      "0    2178          2295     2295       2295           2295         2295   \n",
      "1    2178          2295     2295       2295           2295         2295   \n",
      "2    2178          2295     2295       2295           2295         2295   \n",
      "3    2178          2295     2295       2295           2295         2295   \n",
      "4    2178          2295     2295       2295           2295         2295   \n",
      "\n",
      "  Limeroad MRP Myntra MRP Paytm MRP Snapdeal MRP  \n",
      "0         2295       2295      2295         2295  \n",
      "1         2295       2295      2295         2295  \n",
      "2         2295       2295      2295         2295  \n",
      "3         2295       2295      2295         2295  \n",
      "4         2295       2295      2295         2295  \n",
      "\n",
      "Preview of Sale Report DataFrame:\n",
      "   index       SKU Code Design No.  Stock       Category Size Color\n",
      "0      0    AN201-RED-L      AN201    5.0  AN : LEGGINGS    L   Red\n",
      "1      1    AN201-RED-M      AN201    5.0  AN : LEGGINGS    M   Red\n",
      "2      2    AN201-RED-S      AN201    3.0  AN : LEGGINGS    S   Red\n",
      "3      3   AN201-RED-XL      AN201    6.0  AN : LEGGINGS   XL   Red\n",
      "4      4  AN201-RED-XXL      AN201    3.0  AN : LEGGINGS  XXL   Red\n"
     ]
    }
   ],
   "source": [
    "data_folder = \"./data/\"\n",
    "\n",
    "# List all CSV files in the folder\n",
    "csv_files = [f for f in os.listdir(data_folder) if f.endswith(\".csv\")]\n",
    "\n",
    "# Dictionary to store DataFrames\n",
    "dataframes = {}\n",
    "\n",
    "# Loop through CSV files and read each one into a DataFrame\n",
    "for file in csv_files:\n",
    "    file_path = os.path.join(data_folder, file)\n",
    "    df_name = file.replace(\".csv\", \"\")  # Use filename as DataFrame key\n",
    "    dataframes[df_name] = pd.read_csv(file_path)\n",
    "    print(f\"Loaded {file} into DataFrame: {df_name}\")\n",
    "\n",
    "# Preview the first few rows of each DataFrame\n",
    "for name, df in dataframes.items():\n",
    "    print(f\"\\nPreview of {name} DataFrame:\")\n",
    "    print(df.head())\n"
   ]
  },
  {
   "cell_type": "code",
   "execution_count": null,
   "metadata": {
    "vscode": {
     "languageId": "shellscript"
    }
   },
   "outputs": [
    {
     "name": "stdout",
     "output_type": "stream",
     "text": [
      "\n",
      "Generated SQL Query:\n",
      "SELECT \n",
      "    DATE_FORMAT(a.Date, '%Y-%m') as Month,\n",
      "    a.Fulfilment,\n",
      "    SUM(a.Amount) as Total_Amount,\n",
      "    COUNT(DISTINCT a.Sku) as Total_SKU\n",
      "FROM \n",
      "    `Amazon Sale Report` a\n",
      "GROUP BY \n",
      "    DATE_FORMAT(a.Date, '%Y-%m'),\n",
      "    a.Fulfilment\n",
      "ORDER BY \n",
      "    DATE_FORMAT(a.Date, '%Y-%m'),\n",
      "    a.Fulfilment;\n"
     ]
    }
   ],
   "source": [
    "# Initialize AI SQL Agent\n",
    "sql_agent = Agent(model=Groq(id=\"llama-3.3-70b-versatile\"))\n",
    "\n",
    "# Function to generate SQL query with JOINs\n",
    "def generate_sql_query(natural_language_query, table_schemas):\n",
    "    # Format table schemas for AI input\n",
    "    schema_info = \"\\n\".join([f\"Table `{name}`: Columns -> {', '.join(columns)}\" for name, columns in table_schemas.items()])\n",
    "    \n",
    "    prompt = f\"\"\"\n",
    "    You are an expert SQL assistant. Convert the following natural language request into a valid SQL query. \n",
    "    The database contains multiple tables with relationships inferred from common columns.\n",
    "\n",
    "    Information about the dataset:\n",
    "    {schema_info}\n",
    "\n",
    "    The user request is: \"{natural_language_query}\"\n",
    "    \n",
    "    Generate an optimized SQL query with proper JOIN operations if needed.\n",
    "    \"\"\"\n",
    "    \n",
    "    response = sql_agent.run(prompt)\n",
    "    return response.content  # Extract generated SQL\n",
    "\n",
    "\n",
    "# Define the table schemas\n",
    "table_schemas = {\n",
    "    'Cloud Warehouse Compersion Chart': ['Shiprocket', 'INCREFF'],\n",
    "    'Sale Report': ['SKU Code', 'Design No.', 'Stock', 'Category', 'Size', 'Color'],\n",
    "    'P & L March 2021': ['Category', 'Sku', 'Catalog', 'Weight', 'TP 1', 'TP 2', 'MRP Old', 'Final MRP Old', 'Ajio MRP', 'Amazon MRP', 'Amazon FBA MRP', 'Flipkart MRP', 'Limeroad MRP', 'Myntra MRP', 'Paytm MRP', 'Snapdeal MRP'],\n",
    "    'May-2022': ['Sku', 'Catalog', 'Category', 'Weight', 'MRP Old', 'Final MRP Old', 'Ajio MRP', 'Amazon MRP', 'Amazon FBA MRP', 'Flipkart MRP', 'Limeroad MRP', 'Myntra MRP', 'Paytm MRP', 'Snapdeal MRP'],\n",
    "    'Amazon Sale Report': ['Category', 'Size', 'Date', 'Status', 'Fulfilment', 'Style', 'SKU', 'ASIN', 'Courier Status', 'Qty', 'Amount', 'B2B', 'Currency'],\n",
    "    'International sale Report': ['Style', 'SKU', 'Size', 'DATE', 'Months', 'CUSTOMER', 'PCS', 'RATE', 'GROSS AMT'],\n",
    "    'Expense IIGF': ['Recived Amount']\n",
    "}"
   ]
  },
  {
   "cell_type": "code",
   "execution_count": 22,
   "metadata": {
    "vscode": {
     "languageId": "shellscript"
    }
   },
   "outputs": [
    {
     "name": "stdout",
     "output_type": "stream",
     "text": [
      "\n",
      "Generated SQL Query:\n",
      "SELECT \n",
      "    EXTRACT(MONTH FROM `Date`) AS SalesMonth,\n",
      "    Fulfilment AS MethodOfFulfilment,\n",
      "    SUM(Amount) AS TotalSalesAmount,\n",
      "    COUNT(DISTINCT SKU) AS CountOfSKU\n",
      "FROM \n",
      "    `Amazon Sale Report`\n",
      "GROUP BY \n",
      "    EXTRACT(MONTH FROM `Date`), Fulfilment\n",
      "ORDER BY \n",
      "    SalesMonth, MethodOfFulfilment;\n"
     ]
    }
   ],
   "source": [
    "# Example user request that requires a JOIN\n",
    "user_query = \"Get total sales for each month by Method of fulfilment, including their Amount of the sale and count of SKU.\"\n",
    "sql_query = generate_sql_query(user_query, table_schemas)\n",
    "\n",
    "# Extract only the SQL query part using regex to remove any extraneous text\n",
    "sql_query = re.search(r\"(?s)```sql(.*?)```\", sql_query).group(1).strip()\n",
    "\n",
    "# Replace EXTRACT with strftime for SQLite compatibility\n",
    "sql_query = sql_query.replace(\"EXTRACT(MONTH FROM ASR.Date)\", \"strftime('%m', ASR.Date)\")\n",
    "\n",
    "print(\"\\nGenerated SQL Query:\")\n",
    "print(sql_query)"
   ]
  }
 ],
 "metadata": {
  "kernelspec": {
   "display_name": "venv",
   "language": "python",
   "name": "python3"
  },
  "language_info": {
   "codemirror_mode": {
    "name": "ipython",
    "version": 3
   },
   "file_extension": ".py",
   "mimetype": "text/x-python",
   "name": "python",
   "nbconvert_exporter": "python",
   "pygments_lexer": "ipython3",
   "version": "3.10.2"
  }
 },
 "nbformat": 4,
 "nbformat_minor": 2
}
